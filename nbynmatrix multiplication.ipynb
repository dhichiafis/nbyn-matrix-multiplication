{
 "cells": [
  {
   "cell_type": "code",
   "execution_count": 21,
   "id": "5e97d150",
   "metadata": {},
   "outputs": [
    {
     "name": "stdout",
     "output_type": "stream",
     "text": [
      "[[10, 20, 30, 40], [10, 20, 30, 40], [10, 20, 30, 40], [10, 20, 30, 40]]\n"
     ]
    }
   ],
   "source": [
    "import pandas as pd \n",
    "def matrix_calculation_nbyn(a,b):\n",
    "    matrix=[]\n",
    "    for i in range(len(a)):\n",
    "        min_matrix=[]\n",
    "        for j in range(len(a[i])):\n",
    "            min_sum=[]\n",
    "            for k in range(len(b)):\n",
    "                product=a[i][k]*b[k][j]\n",
    "                min_sum.append(product)\n",
    "            min_matrix.append(sum(min_sum))\n",
    "        matrix.append(min_matrix)\n",
    "    print(matrix)\n",
    "    return matrix\n",
    "    \n",
    "A=[[1,2,3,4],[1,2,3,4],[1,2,3,4],[1,2,3,4]]\n",
    "B=[[1,2,3,4],[1,2,3,4],[1,2,3,4],[1,2,3,4]]\n",
    "matrix=matrix_calculation_nbyn(A,B)"
   ]
  },
  {
   "cell_type": "code",
   "execution_count": null,
   "id": "8771f6dc",
   "metadata": {},
   "outputs": [],
   "source": []
  },
  {
   "cell_type": "code",
   "execution_count": 16,
   "id": "857ae7fa",
   "metadata": {},
   "outputs": [
    {
     "data": {
      "text/html": [
       "<div>\n",
       "<style scoped>\n",
       "    .dataframe tbody tr th:only-of-type {\n",
       "        vertical-align: middle;\n",
       "    }\n",
       "\n",
       "    .dataframe tbody tr th {\n",
       "        vertical-align: top;\n",
       "    }\n",
       "\n",
       "    .dataframe thead th {\n",
       "        text-align: right;\n",
       "    }\n",
       "</style>\n",
       "<table border=\"1\" class=\"dataframe\">\n",
       "  <thead>\n",
       "    <tr style=\"text-align: right;\">\n",
       "      <th></th>\n",
       "      <th>0</th>\n",
       "      <th>1</th>\n",
       "      <th>2</th>\n",
       "      <th>3</th>\n",
       "      <th>4</th>\n",
       "    </tr>\n",
       "  </thead>\n",
       "  <tbody>\n",
       "    <tr>\n",
       "      <th>0</th>\n",
       "      <td>-0.529036</td>\n",
       "      <td>-0.765473</td>\n",
       "      <td>1.361628</td>\n",
       "      <td>0.803296</td>\n",
       "      <td>-1.401654</td>\n",
       "    </tr>\n",
       "    <tr>\n",
       "      <th>1</th>\n",
       "      <td>-0.863237</td>\n",
       "      <td>0.748552</td>\n",
       "      <td>-1.125180</td>\n",
       "      <td>-1.178342</td>\n",
       "      <td>1.285320</td>\n",
       "    </tr>\n",
       "    <tr>\n",
       "      <th>2</th>\n",
       "      <td>0.031881</td>\n",
       "      <td>1.514243</td>\n",
       "      <td>-0.820025</td>\n",
       "      <td>-0.318539</td>\n",
       "      <td>0.991113</td>\n",
       "    </tr>\n",
       "    <tr>\n",
       "      <th>3</th>\n",
       "      <td>-0.352892</td>\n",
       "      <td>0.283011</td>\n",
       "      <td>0.941337</td>\n",
       "      <td>-0.745239</td>\n",
       "      <td>0.962404</td>\n",
       "    </tr>\n",
       "    <tr>\n",
       "      <th>4</th>\n",
       "      <td>1.266905</td>\n",
       "      <td>2.011900</td>\n",
       "      <td>-0.139297</td>\n",
       "      <td>-0.233262</td>\n",
       "      <td>1.716404</td>\n",
       "    </tr>\n",
       "  </tbody>\n",
       "</table>\n",
       "</div>"
      ],
      "text/plain": [
       "          0         1         2         3         4\n",
       "0 -0.529036 -0.765473  1.361628  0.803296 -1.401654\n",
       "1 -0.863237  0.748552 -1.125180 -1.178342  1.285320\n",
       "2  0.031881  1.514243 -0.820025 -0.318539  0.991113\n",
       "3 -0.352892  0.283011  0.941337 -0.745239  0.962404\n",
       "4  1.266905  2.011900 -0.139297 -0.233262  1.716404"
      ]
     },
     "execution_count": 16,
     "metadata": {},
     "output_type": "execute_result"
    }
   ],
   "source": [
    "import numpy as np \n",
    "import pandas as pd \n",
    "\n",
    "data_a=np.arange(25).reshape(5,5)\n",
    "data_a\n",
    "data_b=pd.DataFrame(np.random.randn(25).reshape(5,5))\n",
    "data_b"
   ]
  },
  {
   "cell_type": "code",
   "execution_count": 28,
   "id": "e19fbb25",
   "metadata": {},
   "outputs": [
    {
     "name": "stdout",
     "output_type": "stream",
     "text": [
      "[[-1.238946087345905, 0.10444509641085897, 2.883029759432306, 3.779586693924167, 7.8991342985708295], [-3.895146580798901, -5.559992145368524, 9.876397909419975, 9.222696376441561, 31.0123818958521], [-6.551347074251895, -11.224429387147904, 16.869766059407645, 14.665806058958957, 54.125629493133374], [-9.207547567704893, -16.888866628927286, 23.863134209395316, 20.108915741476352, 77.23887709041466], [-11.863748061157885, -22.553303870706664, 30.856502359382986, 25.552025423993747, 100.35212468769593]]\n"
     ]
    }
   ],
   "source": [
    "matrix=matrix_calculation_nbyn(data_a,data_b)"
   ]
  },
  {
   "cell_type": "code",
   "execution_count": 30,
   "id": "1a9e024a",
   "metadata": {},
   "outputs": [
    {
     "data": {
      "text/html": [
       "<div>\n",
       "<style scoped>\n",
       "    .dataframe tbody tr th:only-of-type {\n",
       "        vertical-align: middle;\n",
       "    }\n",
       "\n",
       "    .dataframe tbody tr th {\n",
       "        vertical-align: top;\n",
       "    }\n",
       "\n",
       "    .dataframe thead th {\n",
       "        text-align: right;\n",
       "    }\n",
       "</style>\n",
       "<table border=\"1\" class=\"dataframe\">\n",
       "  <thead>\n",
       "    <tr style=\"text-align: right;\">\n",
       "      <th></th>\n",
       "      <th>first</th>\n",
       "      <th>second</th>\n",
       "      <th>third</th>\n",
       "      <th>fourth</th>\n",
       "      <th>fifthr</th>\n",
       "    </tr>\n",
       "  </thead>\n",
       "  <tbody>\n",
       "    <tr>\n",
       "      <th>1</th>\n",
       "      <td>-1.238946</td>\n",
       "      <td>0.104445</td>\n",
       "      <td>2.883030</td>\n",
       "      <td>3.779587</td>\n",
       "      <td>7.899134</td>\n",
       "    </tr>\n",
       "    <tr>\n",
       "      <th>2</th>\n",
       "      <td>-3.895147</td>\n",
       "      <td>-5.559992</td>\n",
       "      <td>9.876398</td>\n",
       "      <td>9.222696</td>\n",
       "      <td>31.012382</td>\n",
       "    </tr>\n",
       "    <tr>\n",
       "      <th>3</th>\n",
       "      <td>-6.551347</td>\n",
       "      <td>-11.224429</td>\n",
       "      <td>16.869766</td>\n",
       "      <td>14.665806</td>\n",
       "      <td>54.125629</td>\n",
       "    </tr>\n",
       "    <tr>\n",
       "      <th>4</th>\n",
       "      <td>-9.207548</td>\n",
       "      <td>-16.888867</td>\n",
       "      <td>23.863134</td>\n",
       "      <td>20.108916</td>\n",
       "      <td>77.238877</td>\n",
       "    </tr>\n",
       "    <tr>\n",
       "      <th>5</th>\n",
       "      <td>-11.863748</td>\n",
       "      <td>-22.553304</td>\n",
       "      <td>30.856502</td>\n",
       "      <td>25.552025</td>\n",
       "      <td>100.352125</td>\n",
       "    </tr>\n",
       "  </tbody>\n",
       "</table>\n",
       "</div>"
      ],
      "text/plain": [
       "       first     second      third     fourth      fifthr\n",
       "1  -1.238946   0.104445   2.883030   3.779587    7.899134\n",
       "2  -3.895147  -5.559992   9.876398   9.222696   31.012382\n",
       "3  -6.551347 -11.224429  16.869766  14.665806   54.125629\n",
       "4  -9.207548 -16.888867  23.863134  20.108916   77.238877\n",
       "5 -11.863748 -22.553304  30.856502  25.552025  100.352125"
      ]
     },
     "execution_count": 30,
     "metadata": {},
     "output_type": "execute_result"
    }
   ],
   "source": [
    "data_matrix=pd.DataFrame(matrix,columns=['first','second','third','fourth','fifthr'],index=[x+1 for x in range(len(matrix))])\n",
    "data_matrix.head()"
   ]
  },
  {
   "cell_type": "code",
   "execution_count": null,
   "id": "a37fe272",
   "metadata": {},
   "outputs": [],
   "source": []
  }
 ],
 "metadata": {
  "kernelspec": {
   "display_name": "Python 3 (ipykernel)",
   "language": "python",
   "name": "python3"
  },
  "language_info": {
   "codemirror_mode": {
    "name": "ipython",
    "version": 3
   },
   "file_extension": ".py",
   "mimetype": "text/x-python",
   "name": "python",
   "nbconvert_exporter": "python",
   "pygments_lexer": "ipython3",
   "version": "3.11.5"
  }
 },
 "nbformat": 4,
 "nbformat_minor": 5
}
